{
 "cells": [
  {
   "cell_type": "markdown",
   "id": "3f565809-86d7-4db8-b06e-cef64636f922",
   "metadata": {},
   "source": [
    "# Model Fine-Tuning"
   ]
  },
  {
   "cell_type": "markdown",
   "id": "b5289829-d8ee-4cd3-bb12-384c5b3d6b20",
   "metadata": {},
   "source": [
    "## Import Libraries"
   ]
  },
  {
   "cell_type": "code",
   "execution_count": 1,
   "id": "f60033f6-7f0d-4160-9ccc-88a2e2f60111",
   "metadata": {},
   "outputs": [],
   "source": [
    "import numpy as np\n",
    "import os, torch\n",
    "from torch.utils.data import DataLoader, random_split\n",
    "from torchvision import datasets\n",
    "from torchvision.transforms import transforms\n",
    "from models.project_models import FC_500_150, LeNet_CIFAR, LeNet_MNIST, Net\n",
    "from utils.project_utils import get_clip_bounds, model_train, model_eval"
   ]
  },
  {
   "cell_type": "markdown",
   "id": "33f067c0-b08e-4191-9684-391a5d82a2e3",
   "metadata": {},
   "source": [
    "## CIFAR-10 SSL Fix"
   ]
  },
  {
   "cell_type": "code",
   "execution_count": 2,
   "id": "d45e0589-1a79-4c1c-8c21-f515ee39809a",
   "metadata": {},
   "outputs": [],
   "source": [
    "import ssl\n",
    "ssl._create_default_https_context = ssl._create_unverified_context"
   ]
  },
  {
   "cell_type": "markdown",
   "id": "775e3453-e420-4951-b7ef-54a9f704779e",
   "metadata": {},
   "source": [
    "## Set Random Seed & Device"
   ]
  },
  {
   "cell_type": "code",
   "execution_count": 3,
   "id": "d7e16653-5b76-42b7-a0fc-3ffc63dbb851",
   "metadata": {},
   "outputs": [],
   "source": [
    "rand_seed = 100\n",
    "np.random.seed(rand_seed)\n",
    "torch.manual_seed(rand_seed)\n",
    "\n",
    "use_cuda = torch.cuda.is_available()\n",
    "device = torch.device('cuda' if use_cuda else 'cpu')"
   ]
  },
  {
   "cell_type": "markdown",
   "id": "09a5c773-3c85-4fda-95f4-bb2c8426fe1d",
   "metadata": {},
   "source": [
    "## Download & Pre-Process Datasets"
   ]
  },
  {
   "cell_type": "markdown",
   "id": "cf39ea10-756d-4d6b-aec4-12de76c8f453",
   "metadata": {},
   "source": [
    "### MNIST Dataset"
   ]
  },
  {
   "cell_type": "code",
   "execution_count": 4,
   "id": "a5a134c0-e712-40bb-a2e0-128a57724414",
   "metadata": {},
   "outputs": [],
   "source": [
    "mnist_mean = 0.5\n",
    "mnist_std = 0.5\n",
    "mnist_dim = 28\n",
    "\n",
    "mnist_min, mnist_max = get_clip_bounds(mnist_mean,\n",
    "                                       mnist_std,\n",
    "                                       mnist_dim)\n",
    "mnist_min = mnist_min.to(device)\n",
    "mnist_max = mnist_max.to(device)\n",
    "\n",
    "mnist_tf = transforms.Compose([\n",
    "    transforms.ToTensor(),\n",
    "    transforms.Normalize(\n",
    "        mean=mnist_mean,\n",
    "        std=mnist_std)])\n",
    "\n",
    "mnist_tf_train = transforms.Compose([\n",
    "    transforms.RandomHorizontalFlip(),\n",
    "    transforms.ToTensor(),\n",
    "    transforms.Normalize(\n",
    "        mean=mnist_mean,\n",
    "        std=mnist_std)])\n",
    "\n",
    "mnist_tf_inv = transforms.Compose([\n",
    "    transforms.Normalize(\n",
    "        mean=0.0,\n",
    "        std=np.divide(1.0, mnist_std)),\n",
    "    transforms.Normalize(\n",
    "        mean=np.multiply(-1.0, mnist_std),\n",
    "        std=1.0)])\n",
    "\n",
    "mnist_temp = datasets.MNIST(root='datasets/mnist', train=True,\n",
    "                            download=True, transform=mnist_tf_train)\n",
    "mnist_train, mnist_val = random_split(mnist_temp, [50000, 10000])\n",
    "\n",
    "mnist_test = datasets.MNIST(root='datasets/mnist', train=False,\n",
    "                            download=True, transform=mnist_tf)"
   ]
  },
  {
   "cell_type": "markdown",
   "id": "969856a4-3b9c-4181-9dc9-4120b1c5cfe8",
   "metadata": {},
   "source": [
    "### CIFAR-10 Dataset"
   ]
  },
  {
   "cell_type": "code",
   "execution_count": 5,
   "id": "1999b328-b434-40ec-8773-e7fc3bf76f57",
   "metadata": {},
   "outputs": [
    {
     "name": "stdout",
     "output_type": "stream",
     "text": [
      "Files already downloaded and verified\n",
      "Files already downloaded and verified\n"
     ]
    }
   ],
   "source": [
    "cifar_mean = [0.491, 0.482, 0.447]\n",
    "cifar_std = [0.202, 0.199, 0.201]\n",
    "cifar_dim = 32\n",
    "\n",
    "cifar_min, cifar_max = get_clip_bounds(cifar_mean,\n",
    "                                       cifar_std,\n",
    "                                       cifar_dim)\n",
    "cifar_min = cifar_min.to(device)\n",
    "cifar_max = cifar_max.to(device)\n",
    "\n",
    "cifar_tf = transforms.Compose([\n",
    "    transforms.ToTensor(),\n",
    "    transforms.Normalize(\n",
    "        mean=cifar_mean,\n",
    "        std=cifar_std)])\n",
    "\n",
    "cifar_tf_train = transforms.Compose([\n",
    "    transforms.RandomCrop(\n",
    "        size=cifar_dim,\n",
    "        padding=4),\n",
    "    transforms.RandomHorizontalFlip(),\n",
    "    transforms.ToTensor(),\n",
    "    transforms.Normalize(\n",
    "        mean=cifar_mean,\n",
    "        std=cifar_std)])\n",
    "\n",
    "cifar_tf_inv = transforms.Compose([\n",
    "    transforms.Normalize(\n",
    "        mean=[0.0, 0.0, 0.0],\n",
    "        std=np.divide(1.0, cifar_std)),\n",
    "    transforms.Normalize(\n",
    "        mean=np.multiply(-1.0, cifar_mean),\n",
    "        std=[1.0, 1.0, 1.0])])\n",
    "\n",
    "cifar_temp = datasets.CIFAR10(root='datasets/cifar-10', train=True,\n",
    "                              download=True, transform=cifar_tf_train)\n",
    "cifar_train, cifar_val = random_split(cifar_temp, [40000, 10000])\n",
    "\n",
    "cifar_test = datasets.CIFAR10(root='datasets/cifar-10', train=False,\n",
    "                              download=True, transform=cifar_tf)\n",
    "\n",
    "cifar_classes = ['airplane', 'automobile', 'bird', 'cat', 'deer',\n",
    "                 'dog', 'frog', 'horse', 'ship', 'truck']"
   ]
  },
  {
   "cell_type": "markdown",
   "id": "079f1f4d-69d8-483c-a501-04e7a021064c",
   "metadata": {},
   "source": [
    "## Dataset Loaders"
   ]
  },
  {
   "cell_type": "code",
   "execution_count": 6,
   "id": "beda5a10-6157-4197-b349-b04cef1959be",
   "metadata": {},
   "outputs": [],
   "source": [
    "batch_size = 128\n",
    "workers = 4\n",
    "\n",
    "mnist_loader_train = DataLoader(mnist_train, batch_size=batch_size,\n",
    "                                shuffle=True, num_workers=workers)\n",
    "mnist_loader_val = DataLoader(mnist_val, batch_size=batch_size,\n",
    "                              shuffle=False, num_workers=workers)\n",
    "mnist_loader_test = DataLoader(mnist_test, batch_size=batch_size,\n",
    "                               shuffle=False, num_workers=workers)\n",
    "\n",
    "cifar_loader_train = DataLoader(cifar_train, batch_size=batch_size,\n",
    "                                shuffle=True, num_workers=workers)\n",
    "cifar_loader_val = DataLoader(cifar_val, batch_size=batch_size,\n",
    "                              shuffle=False, num_workers=workers)\n",
    "cifar_loader_test = DataLoader(cifar_test, batch_size=batch_size,\n",
    "                               shuffle=False, num_workers=workers)"
   ]
  },
  {
   "cell_type": "markdown",
   "id": "a74dcbbf-2ae5-4c8b-aa90-4fc5d79a1a3b",
   "metadata": {},
   "source": [
    "## Training Parameters"
   ]
  },
  {
   "cell_type": "code",
   "execution_count": 7,
   "id": "96936de6-5136-4fa1-b617-64ed93bbcd14",
   "metadata": {},
   "outputs": [],
   "source": [
    "train_model = True\n",
    "\n",
    "epochs = 50\n",
    "\n",
    "lr = 0.004\n",
    "lr_nin = 0.01\n",
    "lr_scale = 0.5\n",
    "\n",
    "momentum = 0.9\n",
    "\n",
    "print_step = 5\n",
    "\n",
    "if not os.path.isdir('weights/finetuned'):\n",
    "    os.makedirs('weights/finetuned', exist_ok=True)"
   ]
  },
  {
   "cell_type": "markdown",
   "id": "dc42b289-7864-4aaa-a1d5-1b62736c44a9",
   "metadata": {
    "tags": []
   },
   "source": [
    "## MNIST Fine-Tuning"
   ]
  },
  {
   "cell_type": "markdown",
   "id": "9ba59470-54cf-4790-9638-c713bed1ae79",
   "metadata": {},
   "source": [
    "### LeNet Model"
   ]
  },
  {
   "cell_type": "code",
   "execution_count": 8,
   "id": "bbb6c9d7-d310-4e05-b656-336ac774bdbc",
   "metadata": {},
   "outputs": [
    {
     "name": "stdout",
     "output_type": "stream",
     "text": [
      "Epoch [1]\n",
      "    Train Acc : 0.9981,  Train Loss : 0.0067\n",
      "      Val Acc : 0.9886,    Val Loss : 0.0521\n",
      "Epoch [5]\n",
      "    Train Acc : 0.9991,  Train Loss : 0.0043\n",
      "      Val Acc : 0.9870,    Val Loss : 0.0559\n",
      "Epoch [10]\n",
      "    Train Acc : 0.9994,  Train Loss : 0.0036\n",
      "      Val Acc : 0.9866,    Val Loss : 0.0580\n",
      "Epoch [15]\n",
      "    Train Acc : 0.9995,  Train Loss : 0.0029\n",
      "      Val Acc : 0.9871,    Val Loss : 0.0611\n",
      "Epoch [20]\n",
      "    Train Acc : 0.9995,  Train Loss : 0.0027\n",
      "      Val Acc : 0.9862,    Val Loss : 0.0660\n",
      "Epoch [25]\n",
      "    Train Acc : 0.9998,  Train Loss : 0.0019\n",
      "      Val Acc : 0.9869,    Val Loss : 0.0652\n",
      "Epoch [30]\n",
      "    Train Acc : 0.9998,  Train Loss : 0.0018\n",
      "      Val Acc : 0.9864,    Val Loss : 0.0673\n",
      "Epoch [35]\n",
      "    Train Acc : 0.9998,  Train Loss : 0.0013\n",
      "      Val Acc : 0.9865,    Val Loss : 0.0687\n",
      "Epoch [40]\n",
      "    Train Acc : 0.9998,  Train Loss : 0.0012\n",
      "      Val Acc : 0.9864,    Val Loss : 0.0694\n",
      "Epoch [45]\n",
      "    Train Acc : 0.9999,  Train Loss : 0.0011\n",
      "      Val Acc : 0.9867,    Val Loss : 0.0657\n",
      "Epoch [50]\n",
      "    Train Acc : 1.0000,  Train Loss : 0.0008\n",
      "      Val Acc : 0.9882,    Val Loss : 0.0638\n",
      "Evaluation (Clean Images)\n",
      "     Test Acc : 0.9862,   Test Loss : 0.0680\n"
     ]
    }
   ],
   "source": [
    "model = LeNet_MNIST().to(device)\n",
    "\n",
    "if train_model:\n",
    "    model.load_state_dict(torch.load('weights/clean/mnist_lenet.pth'))\n",
    "    opt = torch.optim.SGD(model.parameters(),\n",
    "                          lr=lr * lr_scale,\n",
    "                          momentum=momentum)\n",
    "    _, _, _, _, = model_train(device, model, opt, epochs,\n",
    "                              mnist_loader_train, mnist_loader_val,\n",
    "                              print_step)\n",
    "    torch.save(model.state_dict(), 'weights/finetuned/mnist_lenet.pth')\n",
    "\n",
    "model.load_state_dict(torch.load('weights/finetuned/mnist_lenet.pth'))\n",
    "_, _ = model_eval(device, model, mnist_loader_test)\n",
    "\n",
    "if device.type == 'cuda':\n",
    "    torch.cuda.empty_cache()"
   ]
  },
  {
   "cell_type": "markdown",
   "id": "48315247-b3ad-41da-8c9a-1128951de5d6",
   "metadata": {},
   "source": [
    "### FC Model"
   ]
  },
  {
   "cell_type": "code",
   "execution_count": 9,
   "id": "53ba3761-ebbb-4df4-b4a6-3bc498061ddf",
   "metadata": {},
   "outputs": [
    {
     "name": "stdout",
     "output_type": "stream",
     "text": [
      "Epoch [1]\n",
      "    Train Acc : 0.9954,  Train Loss : 0.0209\n",
      "      Val Acc : 0.9730,    Val Loss : 0.0945\n",
      "Epoch [5]\n",
      "    Train Acc : 0.9965,  Train Loss : 0.0178\n",
      "      Val Acc : 0.9735,    Val Loss : 0.0962\n",
      "Epoch [10]\n",
      "    Train Acc : 0.9973,  Train Loss : 0.0152\n",
      "      Val Acc : 0.9714,    Val Loss : 0.0985\n",
      "Epoch [15]\n",
      "    Train Acc : 0.9974,  Train Loss : 0.0137\n",
      "      Val Acc : 0.9718,    Val Loss : 0.0993\n",
      "Epoch [20]\n",
      "    Train Acc : 0.9982,  Train Loss : 0.0122\n",
      "      Val Acc : 0.9728,    Val Loss : 0.0955\n",
      "Epoch [25]\n",
      "    Train Acc : 0.9987,  Train Loss : 0.0106\n",
      "      Val Acc : 0.9728,    Val Loss : 0.1010\n",
      "Epoch [30]\n",
      "    Train Acc : 0.9989,  Train Loss : 0.0093\n",
      "      Val Acc : 0.9727,    Val Loss : 0.1018\n",
      "Epoch [35]\n",
      "    Train Acc : 0.9993,  Train Loss : 0.0085\n",
      "      Val Acc : 0.9725,    Val Loss : 0.1034\n",
      "Epoch [40]\n",
      "    Train Acc : 0.9993,  Train Loss : 0.0074\n",
      "      Val Acc : 0.9735,    Val Loss : 0.1022\n",
      "Epoch [45]\n",
      "    Train Acc : 0.9995,  Train Loss : 0.0066\n",
      "      Val Acc : 0.9726,    Val Loss : 0.1016\n",
      "Epoch [50]\n",
      "    Train Acc : 0.9996,  Train Loss : 0.0060\n",
      "      Val Acc : 0.9724,    Val Loss : 0.1054\n",
      "Evaluation (Clean Images)\n",
      "     Test Acc : 0.9759,   Test Loss : 0.0917\n"
     ]
    }
   ],
   "source": [
    "model = FC_500_150().to(device)\n",
    "\n",
    "if train_model:\n",
    "    model.load_state_dict(torch.load('weights/clean/mnist_fc.pth'))\n",
    "    opt = torch.optim.SGD(model.parameters(),\n",
    "                          lr=lr * lr_scale,\n",
    "                          momentum=momentum)\n",
    "    _, _, _, _, = model_train(device, model, opt, epochs,\n",
    "                              mnist_loader_train, mnist_loader_val,\n",
    "                              print_step)\n",
    "    torch.save(model.state_dict(), 'weights/finetuned/mnist_fc.pth')\n",
    "\n",
    "model.load_state_dict(torch.load('weights/finetuned/mnist_fc.pth'))\n",
    "_, _ = model_eval(device, model, mnist_loader_test)\n",
    "\n",
    "if device.type == 'cuda':\n",
    "    torch.cuda.empty_cache()"
   ]
  },
  {
   "cell_type": "markdown",
   "id": "5bd9e9f5-2dbd-4426-abff-8b0ffdd1b0ed",
   "metadata": {
    "tags": []
   },
   "source": [
    "## CIFAR-10 Fine-Tuning"
   ]
  },
  {
   "cell_type": "markdown",
   "id": "32d4f1bc-3ab9-4593-86bf-901c8dd41f93",
   "metadata": {},
   "source": [
    "### Network-In-Network Model"
   ]
  },
  {
   "cell_type": "code",
   "execution_count": 10,
   "id": "b3c49515-6cf5-475e-9133-bcef79955103",
   "metadata": {},
   "outputs": [
    {
     "name": "stdout",
     "output_type": "stream",
     "text": [
      "Epoch [1]\n",
      "    Train Acc : 0.9566,  Train Loss : 0.1241\n",
      "      Val Acc : 0.9788,    Val Loss : 0.0646\n",
      "Epoch [5]\n",
      "    Train Acc : 0.9585,  Train Loss : 0.1176\n",
      "      Val Acc : 0.9785,    Val Loss : 0.0653\n",
      "Epoch [10]\n",
      "    Train Acc : 0.9610,  Train Loss : 0.1110\n",
      "      Val Acc : 0.9802,    Val Loss : 0.0641\n",
      "Epoch [15]\n",
      "    Train Acc : 0.9615,  Train Loss : 0.1072\n",
      "      Val Acc : 0.9809,    Val Loss : 0.0597\n",
      "Epoch [20]\n",
      "    Train Acc : 0.9640,  Train Loss : 0.1024\n",
      "      Val Acc : 0.9785,    Val Loss : 0.0614\n",
      "Epoch [25]\n",
      "    Train Acc : 0.9637,  Train Loss : 0.1047\n",
      "      Val Acc : 0.9775,    Val Loss : 0.0644\n",
      "Epoch [30]\n",
      "    Train Acc : 0.9632,  Train Loss : 0.1026\n",
      "      Val Acc : 0.9802,    Val Loss : 0.0590\n",
      "Epoch [35]\n",
      "    Train Acc : 0.9643,  Train Loss : 0.0990\n",
      "      Val Acc : 0.9786,    Val Loss : 0.0629\n",
      "Epoch [40]\n",
      "    Train Acc : 0.9671,  Train Loss : 0.0930\n",
      "      Val Acc : 0.9787,    Val Loss : 0.0610\n",
      "Epoch [45]\n",
      "    Train Acc : 0.9669,  Train Loss : 0.0944\n",
      "      Val Acc : 0.9761,    Val Loss : 0.0656\n",
      "Epoch [50]\n",
      "    Train Acc : 0.9664,  Train Loss : 0.0933\n",
      "      Val Acc : 0.9779,    Val Loss : 0.0648\n",
      "Evaluation (Clean Images)\n",
      "     Test Acc : 0.9081,   Test Loss : 0.3596\n"
     ]
    }
   ],
   "source": [
    "model = Net().to(device)\n",
    "\n",
    "if train_model:\n",
    "    model.load_state_dict(torch.load('weights/clean/cifar_nin.pth'))\n",
    "    opt = torch.optim.SGD(model.parameters(),\n",
    "                          lr=lr * lr_scale,\n",
    "                          momentum=momentum)\n",
    "    _, _, _, _, = model_train(device, model, opt, epochs,\n",
    "                              cifar_loader_train, cifar_loader_val,\n",
    "                              print_step)\n",
    "    torch.save(model.state_dict(), 'weights/finetuned/cifar_nin.pth')\n",
    "\n",
    "model.load_state_dict(torch.load('weights/finetuned/cifar_nin.pth'))\n",
    "_, _ = model_eval(device, model, cifar_loader_test)\n",
    "\n",
    "if device.type == 'cuda':\n",
    "    torch.cuda.empty_cache()"
   ]
  },
  {
   "cell_type": "markdown",
   "id": "756a6e5e-1051-4572-bbaa-0e5c82ee88c2",
   "metadata": {},
   "source": [
    "### LeNet Model"
   ]
  },
  {
   "cell_type": "code",
   "execution_count": 11,
   "id": "8e4cafca-fa78-45bd-93ca-dc52d68613e3",
   "metadata": {},
   "outputs": [
    {
     "name": "stdout",
     "output_type": "stream",
     "text": [
      "Epoch [1]\n",
      "    Train Acc : 0.8628,  Train Loss : 0.3887\n",
      "      Val Acc : 0.7930,    Val Loss : 0.6351\n",
      "Epoch [5]\n",
      "    Train Acc : 0.8766,  Train Loss : 0.3523\n",
      "      Val Acc : 0.7947,    Val Loss : 0.6169\n",
      "Epoch [10]\n",
      "    Train Acc : 0.8815,  Train Loss : 0.3346\n",
      "      Val Acc : 0.7930,    Val Loss : 0.6335\n",
      "Epoch [15]\n",
      "    Train Acc : 0.8873,  Train Loss : 0.3164\n",
      "      Val Acc : 0.7932,    Val Loss : 0.6558\n",
      "Epoch [20]\n",
      "    Train Acc : 0.8930,  Train Loss : 0.2922\n",
      "      Val Acc : 0.7934,    Val Loss : 0.6877\n",
      "Epoch [25]\n",
      "    Train Acc : 0.9012,  Train Loss : 0.2791\n",
      "      Val Acc : 0.7915,    Val Loss : 0.6800\n",
      "Epoch [30]\n",
      "    Train Acc : 0.9046,  Train Loss : 0.2677\n",
      "      Val Acc : 0.8006,    Val Loss : 0.6546\n",
      "Epoch [35]\n",
      "    Train Acc : 0.9091,  Train Loss : 0.2535\n",
      "      Val Acc : 0.7909,    Val Loss : 0.6998\n",
      "Epoch [40]\n",
      "    Train Acc : 0.9152,  Train Loss : 0.2418\n",
      "      Val Acc : 0.7966,    Val Loss : 0.6876\n",
      "Epoch [45]\n",
      "    Train Acc : 0.9191,  Train Loss : 0.2269\n",
      "      Val Acc : 0.7995,    Val Loss : 0.7116\n",
      "Epoch [50]\n",
      "    Train Acc : 0.9208,  Train Loss : 0.2220\n",
      "      Val Acc : 0.7976,    Val Loss : 0.7238\n",
      "Evaluation (Clean Images)\n",
      "     Test Acc : 0.7998,   Test Loss : 0.7192\n"
     ]
    }
   ],
   "source": [
    "model = LeNet_CIFAR().to(device)\n",
    "\n",
    "if train_model:\n",
    "    model.load_state_dict(torch.load('weights/clean/cifar_lenet.pth'))\n",
    "    opt = torch.optim.SGD(model.parameters(),\n",
    "                          lr=lr * lr_scale,\n",
    "                          momentum=momentum)\n",
    "    _, _, _, _, = model_train(device, model, opt, epochs,\n",
    "                              cifar_loader_train, cifar_loader_val,\n",
    "                              print_step)\n",
    "    torch.save(model.state_dict(), 'weights/finetuned/cifar_lenet.pth')\n",
    "\n",
    "model.load_state_dict(torch.load('weights/finetuned/cifar_lenet.pth'))\n",
    "_, _ = model_eval(device, model, cifar_loader_test)\n",
    "\n",
    "if device.type == 'cuda':\n",
    "    torch.cuda.empty_cache()"
   ]
  },
  {
   "cell_type": "code",
   "execution_count": null,
   "id": "7d7ee503-fe24-4e01-8e7a-17d42a83fb9c",
   "metadata": {},
   "outputs": [],
   "source": []
  }
 ],
 "metadata": {
  "kernelspec": {
   "display_name": "Python 3 (ipykernel)",
   "language": "python",
   "name": "python3"
  },
  "language_info": {
   "codemirror_mode": {
    "name": "ipython",
    "version": 3
   },
   "file_extension": ".py",
   "mimetype": "text/x-python",
   "name": "python",
   "nbconvert_exporter": "python",
   "pygments_lexer": "ipython3",
   "version": "3.7.11"
  }
 },
 "nbformat": 4,
 "nbformat_minor": 5
}
