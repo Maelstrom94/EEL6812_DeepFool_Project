{
 "cells": [
  {
   "cell_type": "markdown",
   "id": "3f565809-86d7-4db8-b06e-cef64636f922",
   "metadata": {},
   "source": [
    "# Model Training"
   ]
  },
  {
   "cell_type": "markdown",
   "id": "b5289829-d8ee-4cd3-bb12-384c5b3d6b20",
   "metadata": {},
   "source": [
    "## Import Libraries"
   ]
  },
  {
   "cell_type": "code",
   "execution_count": 1,
   "id": "f60033f6-7f0d-4160-9ccc-88a2e2f60111",
   "metadata": {},
   "outputs": [],
   "source": [
    "import numpy as np\n",
    "import os, torch\n",
    "from torch.utils.data import DataLoader, random_split\n",
    "from torchvision import datasets\n",
    "from torchvision.transforms import transforms\n",
    "from models.project_models import FC_500_150, LeNet_CIFAR, LeNet_MNIST, Net\n",
    "from utils.project_utils import get_clip_bounds, model_train, model_eval"
   ]
  },
  {
   "cell_type": "markdown",
   "id": "33f067c0-b08e-4191-9684-391a5d82a2e3",
   "metadata": {},
   "source": [
    "## CIFAR-10 SSL Fix"
   ]
  },
  {
   "cell_type": "code",
   "execution_count": 2,
   "id": "d45e0589-1a79-4c1c-8c21-f515ee39809a",
   "metadata": {},
   "outputs": [],
   "source": [
    "import ssl\n",
    "ssl._create_default_https_context = ssl._create_unverified_context"
   ]
  },
  {
   "cell_type": "markdown",
   "id": "775e3453-e420-4951-b7ef-54a9f704779e",
   "metadata": {},
   "source": [
    "## Set Random Seed & Device"
   ]
  },
  {
   "cell_type": "code",
   "execution_count": 3,
   "id": "d7e16653-5b76-42b7-a0fc-3ffc63dbb851",
   "metadata": {},
   "outputs": [],
   "source": [
    "rand_seed = 100\n",
    "np.random.seed(rand_seed)\n",
    "torch.manual_seed(rand_seed)\n",
    "\n",
    "use_cuda = torch.cuda.is_available()\n",
    "device = torch.device('cuda' if use_cuda else 'cpu')"
   ]
  },
  {
   "cell_type": "markdown",
   "id": "09a5c773-3c85-4fda-95f4-bb2c8426fe1d",
   "metadata": {},
   "source": [
    "## Download & Pre-Process Datasets"
   ]
  },
  {
   "cell_type": "markdown",
   "id": "cf39ea10-756d-4d6b-aec4-12de76c8f453",
   "metadata": {},
   "source": [
    "### MNIST Dataset"
   ]
  },
  {
   "cell_type": "code",
   "execution_count": 4,
   "id": "a5a134c0-e712-40bb-a2e0-128a57724414",
   "metadata": {},
   "outputs": [],
   "source": [
    "mnist_mean = 0.5\n",
    "mnist_std = 0.5\n",
    "mnist_dim = 28\n",
    "\n",
    "mnist_min, mnist_max = get_clip_bounds(mnist_mean,\n",
    "                                       mnist_std,\n",
    "                                       mnist_dim)\n",
    "mnist_min = mnist_min.to(device)\n",
    "mnist_max = mnist_max.to(device)\n",
    "\n",
    "mnist_tf = transforms.Compose([\n",
    "    transforms.ToTensor(),\n",
    "    transforms.Normalize(\n",
    "        mean=mnist_mean,\n",
    "        std=mnist_std)])\n",
    "\n",
    "mnist_tf_train = transforms.Compose([\n",
    "    transforms.RandomHorizontalFlip(),\n",
    "    transforms.ToTensor(),\n",
    "    transforms.Normalize(\n",
    "        mean=mnist_mean,\n",
    "        std=mnist_std)])\n",
    "\n",
    "mnist_tf_inv = transforms.Compose([\n",
    "    transforms.Normalize(\n",
    "        mean=0.0,\n",
    "        std=np.divide(1.0, mnist_std)),\n",
    "    transforms.Normalize(\n",
    "        mean=np.multiply(-1.0, mnist_std),\n",
    "        std=1.0)])\n",
    "\n",
    "mnist_temp = datasets.MNIST(root='datasets/mnist', train=True,\n",
    "                            download=True, transform=mnist_tf_train)\n",
    "mnist_train, mnist_val = random_split(mnist_temp, [50000, 10000])\n",
    "\n",
    "mnist_test = datasets.MNIST(root='datasets/mnist', train=False,\n",
    "                            download=True, transform=mnist_tf)"
   ]
  },
  {
   "cell_type": "markdown",
   "id": "969856a4-3b9c-4181-9dc9-4120b1c5cfe8",
   "metadata": {},
   "source": [
    "### CIFAR-10 Dataset"
   ]
  },
  {
   "cell_type": "code",
   "execution_count": 5,
   "id": "1999b328-b434-40ec-8773-e7fc3bf76f57",
   "metadata": {},
   "outputs": [
    {
     "name": "stdout",
     "output_type": "stream",
     "text": [
      "Files already downloaded and verified\n",
      "Files already downloaded and verified\n"
     ]
    }
   ],
   "source": [
    "cifar_mean = [0.491, 0.482, 0.447]\n",
    "cifar_std = [0.202, 0.199, 0.201]\n",
    "cifar_dim = 32\n",
    "\n",
    "cifar_min, cifar_max = get_clip_bounds(cifar_mean,\n",
    "                                       cifar_std,\n",
    "                                       cifar_dim)\n",
    "cifar_min = cifar_min.to(device)\n",
    "cifar_max = cifar_max.to(device)\n",
    "\n",
    "cifar_tf = transforms.Compose([\n",
    "    transforms.ToTensor(),\n",
    "    transforms.Normalize(\n",
    "        mean=cifar_mean,\n",
    "        std=cifar_std)])\n",
    "\n",
    "cifar_tf_train = transforms.Compose([\n",
    "    transforms.RandomCrop(\n",
    "        size=cifar_dim,\n",
    "        padding=4),\n",
    "    transforms.RandomHorizontalFlip(),\n",
    "    transforms.ToTensor(),\n",
    "    transforms.Normalize(\n",
    "        mean=cifar_mean,\n",
    "        std=cifar_std)])\n",
    "\n",
    "cifar_tf_inv = transforms.Compose([\n",
    "    transforms.Normalize(\n",
    "        mean=[0.0, 0.0, 0.0],\n",
    "        std=np.divide(1.0, cifar_std)),\n",
    "    transforms.Normalize(\n",
    "        mean=np.multiply(-1.0, cifar_mean),\n",
    "        std=[1.0, 1.0, 1.0])])\n",
    "\n",
    "cifar_temp = datasets.CIFAR10(root='datasets/cifar-10', train=True,\n",
    "                              download=True, transform=cifar_tf_train)\n",
    "cifar_train, cifar_val = random_split(cifar_temp, [40000, 10000])\n",
    "\n",
    "cifar_test = datasets.CIFAR10(root='datasets/cifar-10', train=False,\n",
    "                              download=True, transform=cifar_tf)\n",
    "\n",
    "cifar_classes = ['airplane', 'automobile', 'bird', 'cat', 'deer',\n",
    "                 'dog', 'frog', 'horse', 'ship', 'truck']"
   ]
  },
  {
   "cell_type": "markdown",
   "id": "079f1f4d-69d8-483c-a501-04e7a021064c",
   "metadata": {},
   "source": [
    "## Dataset Loaders"
   ]
  },
  {
   "cell_type": "code",
   "execution_count": 6,
   "id": "beda5a10-6157-4197-b349-b04cef1959be",
   "metadata": {},
   "outputs": [],
   "source": [
    "batch_size = 128\n",
    "workers = 4\n",
    "\n",
    "mnist_loader_train = DataLoader(mnist_train, batch_size=batch_size,\n",
    "                                shuffle=True, num_workers=workers)\n",
    "mnist_loader_val = DataLoader(mnist_val, batch_size=batch_size,\n",
    "                              shuffle=False, num_workers=workers)\n",
    "mnist_loader_test = DataLoader(mnist_test, batch_size=batch_size,\n",
    "                               shuffle=False, num_workers=workers)\n",
    "\n",
    "cifar_loader_train = DataLoader(cifar_train, batch_size=batch_size,\n",
    "                                shuffle=True, num_workers=workers)\n",
    "cifar_loader_val = DataLoader(cifar_val, batch_size=batch_size,\n",
    "                              shuffle=False, num_workers=workers)\n",
    "cifar_loader_test = DataLoader(cifar_test, batch_size=batch_size,\n",
    "                               shuffle=False, num_workers=workers)"
   ]
  },
  {
   "cell_type": "markdown",
   "id": "a74dcbbf-2ae5-4c8b-aa90-4fc5d79a1a3b",
   "metadata": {},
   "source": [
    "## Training Parameters"
   ]
  },
  {
   "cell_type": "code",
   "execution_count": 7,
   "id": "96936de6-5136-4fa1-b617-64ed93bbcd14",
   "metadata": {},
   "outputs": [],
   "source": [
    "train_model = True\n",
    "\n",
    "epochs = 50\n",
    "\n",
    "lr = 0.004\n",
    "lr_nin = 0.01\n",
    "\n",
    "momentum = 0.9\n",
    "\n",
    "print_step = 5\n",
    "\n",
    "if not os.path.isdir('weights/clean'):\n",
    "    os.makedirs('weights/clean', exist_ok=True)"
   ]
  },
  {
   "cell_type": "markdown",
   "id": "dc42b289-7864-4aaa-a1d5-1b62736c44a9",
   "metadata": {
    "tags": []
   },
   "source": [
    "## MNIST Training"
   ]
  },
  {
   "cell_type": "markdown",
   "id": "9ba59470-54cf-4790-9638-c713bed1ae79",
   "metadata": {},
   "source": [
    "### LeNet Model"
   ]
  },
  {
   "cell_type": "code",
   "execution_count": 8,
   "id": "bbb6c9d7-d310-4e05-b656-336ac774bdbc",
   "metadata": {},
   "outputs": [
    {
     "name": "stdout",
     "output_type": "stream",
     "text": [
      "Epoch [1]\n",
      "    Train Acc : 0.5429,  Train Loss : 1.4682\n",
      "      Val Acc : 0.8185,    Val Loss : 0.5283\n",
      "Epoch [5]\n",
      "    Train Acc : 0.9600,  Train Loss : 0.1284\n",
      "      Val Acc : 0.9596,    Val Loss : 0.1247\n",
      "Epoch [10]\n",
      "    Train Acc : 0.9770,  Train Loss : 0.0729\n",
      "      Val Acc : 0.9747,    Val Loss : 0.0830\n",
      "Epoch [15]\n",
      "    Train Acc : 0.9846,  Train Loss : 0.0494\n",
      "      Val Acc : 0.9800,    Val Loss : 0.0664\n",
      "Epoch [20]\n",
      "    Train Acc : 0.9880,  Train Loss : 0.0378\n",
      "      Val Acc : 0.9796,    Val Loss : 0.0664\n",
      "Epoch [25]\n",
      "    Train Acc : 0.9903,  Train Loss : 0.0304\n",
      "      Val Acc : 0.9847,    Val Loss : 0.0545\n",
      "Epoch [30]\n",
      "    Train Acc : 0.9920,  Train Loss : 0.0245\n",
      "      Val Acc : 0.9841,    Val Loss : 0.0580\n",
      "Epoch [35]\n",
      "    Train Acc : 0.9938,  Train Loss : 0.0196\n",
      "      Val Acc : 0.9786,    Val Loss : 0.0772\n",
      "Epoch [40]\n",
      "    Train Acc : 0.9950,  Train Loss : 0.0156\n",
      "      Val Acc : 0.9861,    Val Loss : 0.0552\n",
      "Epoch [45]\n",
      "    Train Acc : 0.9962,  Train Loss : 0.0123\n",
      "      Val Acc : 0.9846,    Val Loss : 0.0574\n",
      "Epoch [50]\n",
      "    Train Acc : 0.9968,  Train Loss : 0.0100\n",
      "      Val Acc : 0.9864,    Val Loss : 0.0568\n",
      "Evaluation (Clean Images)\n",
      "     Test Acc : 0.9834,   Test Loss : 0.0639\n"
     ]
    }
   ],
   "source": [
    "model = LeNet_MNIST().to(device)\n",
    "\n",
    "if train_model:\n",
    "    opt = torch.optim.SGD(model.parameters(),\n",
    "                          lr=lr,\n",
    "                          momentum=momentum)\n",
    "    _, _, _, _, = model_train(device, model, opt, epochs,\n",
    "                              mnist_loader_train, mnist_loader_val,\n",
    "                              print_step)\n",
    "    torch.save(model.state_dict(), 'weights/clean/mnist_lenet.pth')\n",
    "\n",
    "model.load_state_dict(torch.load('weights/clean/mnist_lenet.pth'))\n",
    "_, _ = model_eval(device, model, mnist_loader_test)\n",
    "\n",
    "if device.type == 'cuda':\n",
    "    torch.cuda.empty_cache()"
   ]
  },
  {
   "cell_type": "markdown",
   "id": "48315247-b3ad-41da-8c9a-1128951de5d6",
   "metadata": {},
   "source": [
    "### FC Model"
   ]
  },
  {
   "cell_type": "code",
   "execution_count": 9,
   "id": "53ba3761-ebbb-4df4-b4a6-3bc498061ddf",
   "metadata": {},
   "outputs": [
    {
     "name": "stdout",
     "output_type": "stream",
     "text": [
      "Epoch [1]\n",
      "    Train Acc : 0.6948,  Train Loss : 1.0164\n",
      "      Val Acc : 0.8197,    Val Loss : 0.5555\n",
      "Epoch [5]\n",
      "    Train Acc : 0.9103,  Train Loss : 0.2975\n",
      "      Val Acc : 0.9194,    Val Loss : 0.2674\n",
      "Epoch [10]\n",
      "    Train Acc : 0.9480,  Train Loss : 0.1723\n",
      "      Val Acc : 0.9454,    Val Loss : 0.1731\n",
      "Epoch [15]\n",
      "    Train Acc : 0.9625,  Train Loss : 0.1231\n",
      "      Val Acc : 0.9519,    Val Loss : 0.1534\n",
      "Epoch [20]\n",
      "    Train Acc : 0.9708,  Train Loss : 0.0963\n",
      "      Val Acc : 0.9550,    Val Loss : 0.1481\n",
      "Epoch [25]\n",
      "    Train Acc : 0.9770,  Train Loss : 0.0759\n",
      "      Val Acc : 0.9625,    Val Loss : 0.1227\n",
      "Epoch [30]\n",
      "    Train Acc : 0.9802,  Train Loss : 0.0633\n",
      "      Val Acc : 0.9659,    Val Loss : 0.1117\n",
      "Epoch [35]\n",
      "    Train Acc : 0.9848,  Train Loss : 0.0516\n",
      "      Val Acc : 0.9674,    Val Loss : 0.1044\n",
      "Epoch [40]\n",
      "    Train Acc : 0.9873,  Train Loss : 0.0419\n",
      "      Val Acc : 0.9695,    Val Loss : 0.1049\n",
      "Epoch [45]\n",
      "    Train Acc : 0.9905,  Train Loss : 0.0329\n",
      "      Val Acc : 0.9709,    Val Loss : 0.0996\n",
      "Epoch [50]\n",
      "    Train Acc : 0.9921,  Train Loss : 0.0279\n",
      "      Val Acc : 0.9695,    Val Loss : 0.1019\n",
      "Evaluation (Clean Images)\n",
      "     Test Acc : 0.9703,   Test Loss : 0.0985\n"
     ]
    }
   ],
   "source": [
    "model = FC_500_150().to(device)\n",
    "\n",
    "if train_model:\n",
    "    opt = torch.optim.SGD(model.parameters(),\n",
    "                          lr=lr,\n",
    "                          momentum=momentum)\n",
    "    _, _, _, _, = model_train(device, model, opt, epochs,\n",
    "                              mnist_loader_train, mnist_loader_val,\n",
    "                              print_step)\n",
    "    torch.save(model.state_dict(), 'weights/clean/mnist_fc.pth')\n",
    "\n",
    "model.load_state_dict(torch.load('weights/clean/mnist_fc.pth'))\n",
    "_, _ = model_eval(device, model, mnist_loader_test)\n",
    "\n",
    "if device.type == 'cuda':\n",
    "    torch.cuda.empty_cache()"
   ]
  },
  {
   "cell_type": "markdown",
   "id": "5bd9e9f5-2dbd-4426-abff-8b0ffdd1b0ed",
   "metadata": {
    "tags": []
   },
   "source": [
    "## CIFAR-10 Training"
   ]
  },
  {
   "cell_type": "markdown",
   "id": "32d4f1bc-3ab9-4593-86bf-901c8dd41f93",
   "metadata": {},
   "source": [
    "### Network-In-Network Model"
   ]
  },
  {
   "cell_type": "code",
   "execution_count": 10,
   "id": "b3c49515-6cf5-475e-9133-bcef79955103",
   "metadata": {},
   "outputs": [
    {
     "name": "stdout",
     "output_type": "stream",
     "text": [
      "Evaluation (Clean Images)\n",
      "     Test Acc : 0.9072,   Test Loss : 0.3178\n"
     ]
    }
   ],
   "source": [
    "model = Net().to(device)\n",
    "\n",
    "model.load_state_dict(torch.load('weights/clean/cifar_nin.pth'))\n",
    "_, _ = model_eval(device, model, cifar_loader_test)\n",
    "\n",
    "if device.type == 'cuda':\n",
    "    torch.cuda.empty_cache()"
   ]
  },
  {
   "cell_type": "markdown",
   "id": "756a6e5e-1051-4572-bbaa-0e5c82ee88c2",
   "metadata": {},
   "source": [
    "### LeNet Model"
   ]
  },
  {
   "cell_type": "code",
   "execution_count": 11,
   "id": "8e4cafca-fa78-45bd-93ca-dc52d68613e3",
   "metadata": {},
   "outputs": [
    {
     "name": "stdout",
     "output_type": "stream",
     "text": [
      "Epoch [1]\n",
      "    Train Acc : 0.1071,  Train Loss : 2.3005\n",
      "      Val Acc : 0.1836,    Val Loss : 2.2926\n",
      "Epoch [5]\n",
      "    Train Acc : 0.4247,  Train Loss : 1.5375\n",
      "      Val Acc : 0.4516,    Val Loss : 1.4806\n",
      "Epoch [10]\n",
      "    Train Acc : 0.5864,  Train Loss : 1.1482\n",
      "      Val Acc : 0.5953,    Val Loss : 1.1451\n",
      "Epoch [15]\n",
      "    Train Acc : 0.6831,  Train Loss : 0.8944\n",
      "      Val Acc : 0.6803,    Val Loss : 0.9022\n",
      "Epoch [20]\n",
      "    Train Acc : 0.7337,  Train Loss : 0.7613\n",
      "      Val Acc : 0.7226,    Val Loss : 0.7958\n",
      "Epoch [25]\n",
      "    Train Acc : 0.7623,  Train Loss : 0.6751\n",
      "      Val Acc : 0.7392,    Val Loss : 0.7455\n",
      "Epoch [30]\n",
      "    Train Acc : 0.7895,  Train Loss : 0.6058\n",
      "      Val Acc : 0.7559,    Val Loss : 0.6991\n",
      "Epoch [35]\n",
      "    Train Acc : 0.8079,  Train Loss : 0.5526\n",
      "      Val Acc : 0.7700,    Val Loss : 0.6746\n",
      "Epoch [40]\n",
      "    Train Acc : 0.8214,  Train Loss : 0.5085\n",
      "      Val Acc : 0.7729,    Val Loss : 0.6707\n",
      "Epoch [45]\n",
      "    Train Acc : 0.8366,  Train Loss : 0.4676\n",
      "      Val Acc : 0.7776,    Val Loss : 0.6551\n",
      "Epoch [50]\n",
      "    Train Acc : 0.8482,  Train Loss : 0.4320\n",
      "      Val Acc : 0.7773,    Val Loss : 0.6934\n",
      "Evaluation (Clean Images)\n",
      "     Test Acc : 0.7867,   Test Loss : 0.6669\n"
     ]
    }
   ],
   "source": [
    "model = LeNet_CIFAR().to(device)\n",
    "\n",
    "if train_model:\n",
    "    opt = torch.optim.SGD(model.parameters(),\n",
    "                          lr=lr,\n",
    "                          momentum=momentum)\n",
    "    _, _, _, _, = model_train(device, model, opt, epochs,\n",
    "                              cifar_loader_train, cifar_loader_val,\n",
    "                              print_step)\n",
    "    torch.save(model.state_dict(), 'weights/clean/cifar_lenet.pth')\n",
    "\n",
    "model.load_state_dict(torch.load('weights/clean/cifar_lenet.pth'))\n",
    "_, _ = model_eval(device, model, cifar_loader_test)\n",
    "\n",
    "if device.type == 'cuda':\n",
    "    torch.cuda.empty_cache()"
   ]
  },
  {
   "cell_type": "code",
   "execution_count": null,
   "id": "7d7ee503-fe24-4e01-8e7a-17d42a83fb9c",
   "metadata": {},
   "outputs": [],
   "source": []
  }
 ],
 "metadata": {
  "kernelspec": {
   "display_name": "Python 3 (ipykernel)",
   "language": "python",
   "name": "python3"
  },
  "language_info": {
   "codemirror_mode": {
    "name": "ipython",
    "version": 3
   },
   "file_extension": ".py",
   "mimetype": "text/x-python",
   "name": "python",
   "nbconvert_exporter": "python",
   "pygments_lexer": "ipython3",
   "version": "3.7.11"
  }
 },
 "nbformat": 4,
 "nbformat_minor": 5
}
