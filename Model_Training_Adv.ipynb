{
 "cells": [
  {
   "cell_type": "markdown",
   "id": "3f565809-86d7-4db8-b06e-cef64636f922",
   "metadata": {},
   "source": [
    "# Model Adversarial Training"
   ]
  },
  {
   "cell_type": "markdown",
   "id": "b5289829-d8ee-4cd3-bb12-384c5b3d6b20",
   "metadata": {},
   "source": [
    "## Import Libraries"
   ]
  },
  {
   "cell_type": "code",
   "execution_count": 1,
   "id": "f60033f6-7f0d-4160-9ccc-88a2e2f60111",
   "metadata": {},
   "outputs": [],
   "source": [
    "import numpy as np\n",
    "import os, torch\n",
    "from torch.utils.data import DataLoader, random_split\n",
    "from torchvision import datasets\n",
    "from torchvision.transforms import transforms\n",
    "from models.project_models import FC_500_150, LeNet_CIFAR, LeNet_MNIST, Net\n",
    "from utils.project_utils import get_clip_bounds, model_train, model_eval"
   ]
  },
  {
   "cell_type": "markdown",
   "id": "33f067c0-b08e-4191-9684-391a5d82a2e3",
   "metadata": {},
   "source": [
    "## CIFAR-10 SSL Fix"
   ]
  },
  {
   "cell_type": "code",
   "execution_count": 2,
   "id": "d45e0589-1a79-4c1c-8c21-f515ee39809a",
   "metadata": {},
   "outputs": [],
   "source": [
    "import ssl\n",
    "ssl._create_default_https_context = ssl._create_unverified_context"
   ]
  },
  {
   "cell_type": "markdown",
   "id": "775e3453-e420-4951-b7ef-54a9f704779e",
   "metadata": {},
   "source": [
    "## Set Random Seed & Device"
   ]
  },
  {
   "cell_type": "code",
   "execution_count": 3,
   "id": "d7e16653-5b76-42b7-a0fc-3ffc63dbb851",
   "metadata": {},
   "outputs": [],
   "source": [
    "rand_seed = 100\n",
    "np.random.seed(rand_seed)\n",
    "torch.manual_seed(rand_seed)\n",
    "\n",
    "use_cuda = torch.cuda.is_available()\n",
    "device = torch.device('cuda' if use_cuda else 'cpu')"
   ]
  },
  {
   "cell_type": "markdown",
   "id": "09a5c773-3c85-4fda-95f4-bb2c8426fe1d",
   "metadata": {},
   "source": [
    "## Download & Pre-Process Datasets"
   ]
  },
  {
   "cell_type": "markdown",
   "id": "cf39ea10-756d-4d6b-aec4-12de76c8f453",
   "metadata": {},
   "source": [
    "### MNIST Dataset"
   ]
  },
  {
   "cell_type": "code",
   "execution_count": 4,
   "id": "a5a134c0-e712-40bb-a2e0-128a57724414",
   "metadata": {},
   "outputs": [],
   "source": [
    "mnist_mean = 0.5\n",
    "mnist_std = 0.5\n",
    "mnist_dim = 28\n",
    "\n",
    "mnist_min, mnist_max = get_clip_bounds(mnist_mean,\n",
    "                                       mnist_std,\n",
    "                                       mnist_dim)\n",
    "mnist_min = mnist_min.to(device)\n",
    "mnist_max = mnist_max.to(device)\n",
    "\n",
    "mnist_tf = transforms.Compose([\n",
    "    transforms.ToTensor(),\n",
    "    transforms.Normalize(\n",
    "        mean=mnist_mean,\n",
    "        std=mnist_std)])\n",
    "\n",
    "mnist_tf_train = transforms.Compose([\n",
    "    transforms.RandomHorizontalFlip(),\n",
    "    transforms.ToTensor(),\n",
    "    transforms.Normalize(\n",
    "        mean=mnist_mean,\n",
    "        std=mnist_std)])\n",
    "\n",
    "mnist_tf_inv = transforms.Compose([\n",
    "    transforms.Normalize(\n",
    "        mean=0.0,\n",
    "        std=np.divide(1.0, mnist_std)),\n",
    "    transforms.Normalize(\n",
    "        mean=np.multiply(-1.0, mnist_std),\n",
    "        std=1.0)])\n",
    "\n",
    "mnist_temp = datasets.MNIST(root='datasets/mnist', train=True,\n",
    "                            download=True, transform=mnist_tf_train)\n",
    "mnist_train, mnist_val = random_split(mnist_temp, [50000, 10000])\n",
    "\n",
    "mnist_test = datasets.MNIST(root='datasets/mnist', train=False,\n",
    "                            download=True, transform=mnist_tf)\n",
    "\n",
    "cifar_classes = ['airplane', 'automobile', 'bird', 'cat', 'deer',\n",
    "                 'dog', 'frog', 'horse', 'ship', 'truck']"
   ]
  },
  {
   "cell_type": "markdown",
   "id": "969856a4-3b9c-4181-9dc9-4120b1c5cfe8",
   "metadata": {},
   "source": [
    "### CIFAR-10 Dataset"
   ]
  },
  {
   "cell_type": "code",
   "execution_count": 5,
   "id": "1999b328-b434-40ec-8773-e7fc3bf76f57",
   "metadata": {},
   "outputs": [
    {
     "name": "stdout",
     "output_type": "stream",
     "text": [
      "Files already downloaded and verified\n",
      "Files already downloaded and verified\n"
     ]
    }
   ],
   "source": [
    "cifar_mean = [0.491, 0.482, 0.447]\n",
    "cifar_std = [0.202, 0.199, 0.201]\n",
    "cifar_dim = 32\n",
    "\n",
    "cifar_min, cifar_max = get_clip_bounds(cifar_mean,\n",
    "                                       cifar_std,\n",
    "                                       cifar_dim)\n",
    "cifar_min = cifar_min.to(device)\n",
    "cifar_max = cifar_max.to(device)\n",
    "\n",
    "cifar_tf = transforms.Compose([\n",
    "    transforms.ToTensor(),\n",
    "    transforms.Normalize(\n",
    "        mean=cifar_mean,\n",
    "        std=cifar_std)])\n",
    "\n",
    "cifar_tf_train = transforms.Compose([\n",
    "    transforms.RandomCrop(\n",
    "        size=cifar_dim,\n",
    "        padding=4),\n",
    "    transforms.RandomHorizontalFlip(),\n",
    "    transforms.ToTensor(),\n",
    "    transforms.Normalize(\n",
    "        mean=cifar_mean,\n",
    "        std=cifar_std)])\n",
    "\n",
    "cifar_tf_inv = transforms.Compose([\n",
    "    transforms.Normalize(\n",
    "        mean=[0.0, 0.0, 0.0],\n",
    "        std=np.divide(1.0, cifar_std)),\n",
    "    transforms.Normalize(\n",
    "        mean=np.multiply(-1.0, cifar_mean),\n",
    "        std=[1.0, 1.0, 1.0])])\n",
    "\n",
    "cifar_temp = datasets.CIFAR10(root='datasets/cifar-10', train=True,\n",
    "                              download=True, transform=cifar_tf_train)\n",
    "cifar_train, cifar_val = random_split(cifar_temp, [40000, 10000])\n",
    "\n",
    "cifar_test = datasets.CIFAR10(root='datasets/cifar-10', train=False,\n",
    "                              download=True, transform=cifar_tf)"
   ]
  },
  {
   "cell_type": "markdown",
   "id": "079f1f4d-69d8-483c-a501-04e7a021064c",
   "metadata": {},
   "source": [
    "## Dataset Loaders"
   ]
  },
  {
   "cell_type": "code",
   "execution_count": 6,
   "id": "beda5a10-6157-4197-b349-b04cef1959be",
   "metadata": {},
   "outputs": [],
   "source": [
    "batch_size = 128\n",
    "workers = 4\n",
    "\n",
    "mnist_loader_train = DataLoader(mnist_train, batch_size=batch_size,\n",
    "                                shuffle=True, num_workers=workers)\n",
    "mnist_loader_val = DataLoader(mnist_val, batch_size=batch_size,\n",
    "                              shuffle=False, num_workers=workers)\n",
    "mnist_loader_test = DataLoader(mnist_test, batch_size=batch_size,\n",
    "                               shuffle=False, num_workers=workers)\n",
    "\n",
    "cifar_loader_train = DataLoader(cifar_train, batch_size=batch_size,\n",
    "                                shuffle=True, num_workers=workers)\n",
    "cifar_loader_val = DataLoader(cifar_val, batch_size=batch_size,\n",
    "                              shuffle=False, num_workers=workers)\n",
    "cifar_loader_test = DataLoader(cifar_test, batch_size=batch_size,\n",
    "                               shuffle=False, num_workers=workers)"
   ]
  },
  {
   "cell_type": "markdown",
   "id": "a74dcbbf-2ae5-4c8b-aa90-4fc5d79a1a3b",
   "metadata": {},
   "source": [
    "## Training Parameters"
   ]
  },
  {
   "cell_type": "code",
   "execution_count": 7,
   "id": "96936de6-5136-4fa1-b617-64ed93bbcd14",
   "metadata": {},
   "outputs": [],
   "source": [
    "train_model = True\n",
    "\n",
    "epochs = 50\n",
    "epochs_nin = 100\n",
    "\n",
    "lr = 0.004\n",
    "lr_nin = 0.01\n",
    "lr_scale = 0.5\n",
    "\n",
    "momentum = 0.9\n",
    "\n",
    "print_step = 5\n",
    "\n",
    "deep_batch_size = 10\n",
    "deep_num_classes = 10\n",
    "deep_overshoot = 0.02\n",
    "deep_max_iters = 50\n",
    "\n",
    "deep_args = [deep_batch_size, deep_num_classes,\n",
    "             deep_overshoot, deep_max_iters]\n",
    "\n",
    "if not os.path.isdir('weights/deepfool'):\n",
    "    os.makedirs('weights/deepfool', exist_ok=True)\n",
    "\n",
    "if not os.path.isdir('weights/fgsm'):\n",
    "    os.makedirs('weights/fgsm', exist_ok=True)"
   ]
  },
  {
   "cell_type": "markdown",
   "id": "8f0c266f-d2b0-4cac-9a72-30052c2529af",
   "metadata": {
    "tags": []
   },
   "source": [
    "## FGSM Adversarial Training"
   ]
  },
  {
   "cell_type": "markdown",
   "id": "80233524-1068-4230-aa33-3f674222fbdc",
   "metadata": {},
   "source": [
    "### MNIST Dataset"
   ]
  },
  {
   "cell_type": "markdown",
   "id": "47e2c6b7-c239-43aa-9885-a0069f19da39",
   "metadata": {},
   "source": [
    "#### LeNet Model"
   ]
  },
  {
   "cell_type": "code",
   "execution_count": 8,
   "id": "9ef24063-7d2e-44b7-8c36-59ce6adb7510",
   "metadata": {},
   "outputs": [
    {
     "name": "stdout",
     "output_type": "stream",
     "text": [
      "Epoch [1]\n",
      "    Train Acc : 0.4207,  Train Loss : 1.7140\n",
      "      Val Acc : 0.4958,    Val Loss : 1.3642\n",
      "Epoch [5]\n",
      "    Train Acc : 0.6270,  Train Loss : 1.0105\n",
      "      Val Acc : 0.6418,    Val Loss : 0.9728\n",
      "Epoch [10]\n",
      "    Train Acc : 0.7459,  Train Loss : 0.7206\n",
      "      Val Acc : 0.7520,    Val Loss : 0.7109\n",
      "Epoch [15]\n",
      "    Train Acc : 0.8093,  Train Loss : 0.5454\n",
      "      Val Acc : 0.8125,    Val Loss : 0.5351\n",
      "Epoch [20]\n",
      "    Train Acc : 0.8563,  Train Loss : 0.4213\n",
      "      Val Acc : 0.8605,    Val Loss : 0.4018\n",
      "Epoch [25]\n",
      "    Train Acc : 0.8774,  Train Loss : 0.3580\n",
      "      Val Acc : 0.8784,    Val Loss : 0.3546\n",
      "Epoch [30]\n",
      "    Train Acc : 0.8978,  Train Loss : 0.3037\n",
      "      Val Acc : 0.8921,    Val Loss : 0.3112\n",
      "Epoch [35]\n",
      "    Train Acc : 0.9063,  Train Loss : 0.2758\n",
      "      Val Acc : 0.8971,    Val Loss : 0.2954\n",
      "Epoch [40]\n",
      "    Train Acc : 0.9132,  Train Loss : 0.2546\n",
      "      Val Acc : 0.9139,    Val Loss : 0.2554\n",
      "Epoch [45]\n",
      "    Train Acc : 0.9193,  Train Loss : 0.2379\n",
      "      Val Acc : 0.9144,    Val Loss : 0.2506\n",
      "Epoch [50]\n",
      "    Train Acc : 0.9224,  Train Loss : 0.2277\n",
      "      Val Acc : 0.9255,    Val Loss : 0.2252\n",
      "Evaluation (FGSM Images)\n",
      "     Test Acc : 0.9221,   Test Loss : 0.2298\n",
      "Evaluation (Clean Images)\n",
      "     Test Acc : 0.9803,   Test Loss : 0.0573\n"
     ]
    }
   ],
   "source": [
    "fgsm_eps = 0.5\n",
    "model = LeNet_MNIST().to(device)\n",
    "model.load_state_dict(torch.load('weights/clean/mnist_lenet.pth'))\n",
    "\n",
    "if train_model:\n",
    "    opt = torch.optim.SGD(model.parameters(),\n",
    "                          lr=lr * lr_scale,\n",
    "                          momentum=momentum)\n",
    "    _, _, _, _, = model_train(device, model, opt, epochs,\n",
    "                              mnist_loader_train, mnist_loader_val,\n",
    "                              print_step, mnist_min, mnist_max,\n",
    "                              fgsm_eps, is_fgsm=True)\n",
    "    torch.save(model.state_dict(), 'weights/fgsm/mnist_lenet.pth')\n",
    "\n",
    "model.load_state_dict(torch.load('weights/fgsm/mnist_lenet.pth'))\n",
    "_, _ = model_eval(device, model, mnist_loader_test,\n",
    "    mnist_min, mnist_max, fgsm_eps, is_fgsm=True)\n",
    "_, _ = model_eval(device, model, mnist_loader_test)\n",
    "\n",
    "if device.type == 'cuda':\n",
    "    torch.cuda.empty_cache()"
   ]
  },
  {
   "cell_type": "markdown",
   "id": "330e02ee-80e2-42f9-8e68-89a45d486e3e",
   "metadata": {},
   "source": [
    "#### FC Model"
   ]
  },
  {
   "cell_type": "code",
   "execution_count": 9,
   "id": "7ef9985e-a729-4dcf-a9de-8bb227aebf71",
   "metadata": {},
   "outputs": [
    {
     "name": "stdout",
     "output_type": "stream",
     "text": [
      "Epoch [1]\n",
      "    Train Acc : 0.5398,  Train Loss : 1.3971\n",
      "      Val Acc : 0.6148,    Val Loss : 1.0703\n",
      "Epoch [5]\n",
      "    Train Acc : 0.7183,  Train Loss : 0.7871\n",
      "      Val Acc : 0.7193,    Val Loss : 0.7890\n",
      "Epoch [10]\n",
      "    Train Acc : 0.7648,  Train Loss : 0.6703\n",
      "      Val Acc : 0.7626,    Val Loss : 0.6810\n",
      "Epoch [15]\n",
      "    Train Acc : 0.7891,  Train Loss : 0.6054\n",
      "      Val Acc : 0.7825,    Val Loss : 0.6192\n",
      "Epoch [20]\n",
      "    Train Acc : 0.8074,  Train Loss : 0.5587\n",
      "      Val Acc : 0.7988,    Val Loss : 0.5771\n",
      "Epoch [25]\n",
      "    Train Acc : 0.8201,  Train Loss : 0.5248\n",
      "      Val Acc : 0.8107,    Val Loss : 0.5472\n",
      "Epoch [30]\n",
      "    Train Acc : 0.8305,  Train Loss : 0.4962\n",
      "      Val Acc : 0.8219,    Val Loss : 0.5218\n",
      "Epoch [35]\n",
      "    Train Acc : 0.8382,  Train Loss : 0.4726\n",
      "      Val Acc : 0.8287,    Val Loss : 0.5055\n",
      "Epoch [40]\n",
      "    Train Acc : 0.8458,  Train Loss : 0.4533\n",
      "      Val Acc : 0.8335,    Val Loss : 0.4877\n",
      "Epoch [45]\n",
      "    Train Acc : 0.8536,  Train Loss : 0.4341\n",
      "      Val Acc : 0.8436,    Val Loss : 0.4709\n",
      "Epoch [50]\n",
      "    Train Acc : 0.8579,  Train Loss : 0.4194\n",
      "      Val Acc : 0.8436,    Val Loss : 0.4657\n",
      "Evaluation (FGSM Images)\n",
      "     Test Acc : 0.8452,   Test Loss : 0.4579\n",
      "Evaluation (Clean Images)\n",
      "     Test Acc : 0.9720,   Test Loss : 0.0923\n"
     ]
    }
   ],
   "source": [
    "fgsm_eps = 0.2\n",
    "model = FC_500_150().to(device)\n",
    "model.load_state_dict(torch.load('weights/clean/mnist_fc.pth'))\n",
    "\n",
    "if train_model:\n",
    "    opt = torch.optim.SGD(model.parameters(),\n",
    "                          lr=lr * lr_scale,\n",
    "                          momentum=momentum)\n",
    "    _, _, _, _, = model_train(device, model, opt, epochs,\n",
    "                              mnist_loader_train, mnist_loader_val,\n",
    "                              print_step, mnist_min, mnist_max,\n",
    "                              fgsm_eps, is_fgsm=True)\n",
    "    torch.save(model.state_dict(), 'weights/fgsm/mnist_fc.pth')\n",
    "\n",
    "model.load_state_dict(torch.load('weights/fgsm/mnist_fc.pth'))\n",
    "_, _ = model_eval(device, model, mnist_loader_test,\n",
    "    mnist_min, mnist_max, fgsm_eps, is_fgsm=True)\n",
    "_, _ = model_eval(device, model, mnist_loader_test)\n",
    "\n",
    "if device.type == 'cuda':\n",
    "    torch.cuda.empty_cache()"
   ]
  },
  {
   "cell_type": "markdown",
   "id": "938f7889-12cb-4d19-9fe9-4fb6a60520ed",
   "metadata": {},
   "source": [
    "### CIFAR-10 Dataset"
   ]
  },
  {
   "cell_type": "markdown",
   "id": "55b18a27-1cd6-482f-a7a3-850afa54d07f",
   "metadata": {},
   "source": [
    "#### Network-In-Network Model"
   ]
  },
  {
   "cell_type": "code",
   "execution_count": 10,
   "id": "f1095ee0-89e6-4e3d-883b-9fb1110c05e6",
   "metadata": {},
   "outputs": [
    {
     "name": "stdout",
     "output_type": "stream",
     "text": [
      "Epoch [1]\n",
      "    Train Acc : 0.1074,  Train Loss : 2.4102\n",
      "      Val Acc : 0.1390,    Val Loss : 2.3601\n",
      "Epoch [5]\n",
      "    Train Acc : 0.2046,  Train Loss : 2.0998\n",
      "      Val Acc : 0.1783,    Val Loss : 2.1647\n",
      "Epoch [10]\n",
      "    Train Acc : 0.2423,  Train Loss : 2.0235\n",
      "      Val Acc : 0.2092,    Val Loss : 2.1111\n",
      "Epoch [15]\n",
      "    Train Acc : 0.2617,  Train Loss : 1.9804\n",
      "      Val Acc : 0.2170,    Val Loss : 2.0712\n",
      "Epoch [20]\n",
      "    Train Acc : 0.2756,  Train Loss : 1.9500\n",
      "      Val Acc : 0.2306,    Val Loss : 2.0355\n",
      "Epoch [25]\n",
      "    Train Acc : 0.2884,  Train Loss : 1.9188\n",
      "      Val Acc : 0.2408,    Val Loss : 2.0174\n",
      "Epoch [30]\n",
      "    Train Acc : 0.3004,  Train Loss : 1.8866\n",
      "      Val Acc : 0.2646,    Val Loss : 1.9665\n",
      "Epoch [35]\n",
      "    Train Acc : 0.3081,  Train Loss : 1.8554\n",
      "      Val Acc : 0.2885,    Val Loss : 1.9188\n",
      "Epoch [40]\n",
      "    Train Acc : 0.3250,  Train Loss : 1.8166\n",
      "      Val Acc : 0.2951,    Val Loss : 1.8921\n",
      "Epoch [45]\n",
      "    Train Acc : 0.3386,  Train Loss : 1.7760\n",
      "      Val Acc : 0.2955,    Val Loss : 1.8752\n",
      "Epoch [50]\n",
      "    Train Acc : 0.3564,  Train Loss : 1.7379\n",
      "      Val Acc : 0.3350,    Val Loss : 1.7962\n",
      "Epoch [55]\n",
      "    Train Acc : 0.3816,  Train Loss : 1.6790\n",
      "      Val Acc : 0.3609,    Val Loss : 1.7438\n",
      "Epoch [60]\n",
      "    Train Acc : 0.4004,  Train Loss : 1.6279\n",
      "      Val Acc : 0.3849,    Val Loss : 1.6868\n",
      "Epoch [65]\n",
      "    Train Acc : 0.4153,  Train Loss : 1.5878\n",
      "      Val Acc : 0.4160,    Val Loss : 1.6023\n",
      "Epoch [70]\n",
      "    Train Acc : 0.4409,  Train Loss : 1.5239\n",
      "      Val Acc : 0.4379,    Val Loss : 1.5362\n",
      "Epoch [75]\n",
      "    Train Acc : 0.4585,  Train Loss : 1.4768\n",
      "      Val Acc : 0.4588,    Val Loss : 1.4971\n",
      "Epoch [80]\n",
      "    Train Acc : 0.4826,  Train Loss : 1.4175\n",
      "      Val Acc : 0.4741,    Val Loss : 1.4636\n",
      "Epoch [85]\n",
      "    Train Acc : 0.5126,  Train Loss : 1.3430\n",
      "      Val Acc : 0.5268,    Val Loss : 1.3026\n",
      "Epoch [90]\n",
      "    Train Acc : 0.6011,  Train Loss : 1.1073\n",
      "      Val Acc : 0.6548,    Val Loss : 0.9813\n",
      "Epoch [95]\n",
      "    Train Acc : 0.7761,  Train Loss : 0.6558\n",
      "      Val Acc : 0.8162,    Val Loss : 0.5471\n",
      "Epoch [100]\n",
      "    Train Acc : 0.7903,  Train Loss : 0.6044\n",
      "      Val Acc : 0.8050,    Val Loss : 0.5812\n",
      "Evaluation (FGSM Images)\n",
      "     Test Acc : 0.7850,   Test Loss : 0.6644\n",
      "Evaluation (Clean Images)\n",
      "     Test Acc : 0.3808,   Test Loss : 4.4079\n"
     ]
    }
   ],
   "source": [
    "fgsm_eps = 0.2\n",
    "model = Net().to(device)\n",
    "model.load_state_dict(torch.load('weights/clean/cifar_nin.pth'))\n",
    "\n",
    "if train_model:\n",
    "    opt = torch.optim.SGD(model.parameters(),\n",
    "                          lr=lr_nin * lr_scale,\n",
    "                          momentum=momentum)\n",
    "    _, _, _, _, = model_train(device, model, opt, epochs_nin,\n",
    "                              cifar_loader_train, cifar_loader_val,\n",
    "                              print_step, cifar_min, cifar_max,\n",
    "                              fgsm_eps, is_fgsm=True)\n",
    "    torch.save(model.state_dict(), 'weights/fgsm/cifar_nin.pth')\n",
    "\n",
    "model.load_state_dict(torch.load('weights/fgsm/cifar_nin.pth'))\n",
    "_, _ = model_eval(device, model, cifar_loader_test,\n",
    "    cifar_min, cifar_max, fgsm_eps, is_fgsm=True)\n",
    "_, _ = model_eval(device, model, cifar_loader_test)\n",
    "\n",
    "if device.type == 'cuda':\n",
    "    torch.cuda.empty_cache()"
   ]
  },
  {
   "cell_type": "markdown",
   "id": "ac34e25d-8007-4eac-b205-481bc4b374dd",
   "metadata": {},
   "source": [
    "#### LeNet Model"
   ]
  },
  {
   "cell_type": "code",
   "execution_count": 11,
   "id": "e2145259-0ed8-47ab-92e8-9bd42c50ea19",
   "metadata": {},
   "outputs": [
    {
     "name": "stdout",
     "output_type": "stream",
     "text": [
      "Epoch [1]\n",
      "    Train Acc : 0.1752,  Train Loss : 2.2145\n",
      "      Val Acc : 0.2261,    Val Loss : 2.0391\n",
      "Epoch [5]\n",
      "    Train Acc : 0.3121,  Train Loss : 1.8308\n",
      "      Val Acc : 0.3194,    Val Loss : 1.8296\n",
      "Epoch [10]\n",
      "    Train Acc : 0.3517,  Train Loss : 1.7190\n",
      "      Val Acc : 0.3513,    Val Loss : 1.7234\n",
      "Epoch [15]\n",
      "    Train Acc : 0.3759,  Train Loss : 1.6519\n",
      "      Val Acc : 0.3696,    Val Loss : 1.6818\n",
      "Epoch [20]\n",
      "    Train Acc : 0.3870,  Train Loss : 1.6105\n",
      "      Val Acc : 0.3777,    Val Loss : 1.6411\n",
      "Epoch [25]\n",
      "    Train Acc : 0.4004,  Train Loss : 1.5792\n",
      "      Val Acc : 0.3863,    Val Loss : 1.6273\n",
      "Epoch [30]\n",
      "    Train Acc : 0.4063,  Train Loss : 1.5544\n",
      "      Val Acc : 0.4022,    Val Loss : 1.5902\n",
      "Epoch [35]\n",
      "    Train Acc : 0.4172,  Train Loss : 1.5316\n",
      "      Val Acc : 0.4074,    Val Loss : 1.5854\n",
      "Epoch [40]\n",
      "    Train Acc : 0.4227,  Train Loss : 1.5122\n",
      "      Val Acc : 0.4135,    Val Loss : 1.5699\n",
      "Epoch [45]\n",
      "    Train Acc : 0.4294,  Train Loss : 1.4932\n",
      "      Val Acc : 0.4113,    Val Loss : 1.5554\n",
      "Epoch [50]\n",
      "    Train Acc : 0.4364,  Train Loss : 1.4757\n",
      "      Val Acc : 0.4221,    Val Loss : 1.5446\n",
      "Evaluation (FGSM Images)\n",
      "     Test Acc : 0.4270,   Test Loss : 1.5091\n",
      "Evaluation (Clean Images)\n",
      "     Test Acc : 0.6804,   Test Loss : 0.9947\n"
     ]
    }
   ],
   "source": [
    "fgsm_eps = 0.1\n",
    "model = LeNet_CIFAR().to(device)\n",
    "model.load_state_dict(torch.load('weights/clean/cifar_lenet.pth'))\n",
    "\n",
    "if train_model:\n",
    "    opt = torch.optim.SGD(model.parameters(),\n",
    "                          lr=lr * lr_scale,\n",
    "                          momentum=momentum)\n",
    "    _, _, _, _, = model_train(device, model, opt, epochs,\n",
    "                              cifar_loader_train, cifar_loader_val,\n",
    "                              print_step, cifar_min, cifar_max,\n",
    "                              fgsm_eps, is_fgsm=True)\n",
    "    torch.save(model.state_dict(), 'weights/fgsm/cifar_lenet.pth')\n",
    "\n",
    "model.load_state_dict(torch.load('weights/fgsm/cifar_lenet.pth'))\n",
    "_, _ = model_eval(device, model, cifar_loader_test,\n",
    "    cifar_min, cifar_max, fgsm_eps, is_fgsm=True)\n",
    "_, _ = model_eval(device, model, cifar_loader_test)\n",
    "\n",
    "if device.type == 'cuda':\n",
    "    torch.cuda.empty_cache()"
   ]
  },
  {
   "cell_type": "markdown",
   "id": "0201d5da-395d-43cd-93c2-6efe65577cd1",
   "metadata": {
    "tags": []
   },
   "source": [
    "## DeepFool Adversarial Training"
   ]
  },
  {
   "cell_type": "markdown",
   "id": "60850950-78c4-4f24-969d-e14e984e542b",
   "metadata": {
    "tags": []
   },
   "source": [
    "### MNIST Dataset"
   ]
  },
  {
   "cell_type": "markdown",
   "id": "1b8ce52c-1083-4229-8ec8-14e260853c63",
   "metadata": {},
   "source": [
    "#### LeNet Model"
   ]
  },
  {
   "cell_type": "code",
   "execution_count": 12,
   "id": "d217c97c-7f8e-4b1f-beb5-36c792d3e5b9",
   "metadata": {},
   "outputs": [
    {
     "name": "stdout",
     "output_type": "stream",
     "text": [
      "Epoch [1]\n",
      "    Train Acc : 0.0339,  Train Loss : 0.8502\n",
      "      Val Acc : 0.0292,    Val Loss : 0.8463\n",
      "Epoch [2]\n",
      "    Train Acc : 0.0327,  Train Loss : 0.8121\n",
      "      Val Acc : 0.0347,    Val Loss : 0.8027\n",
      "Epoch [3]\n",
      "    Train Acc : 0.0326,  Train Loss : 0.7890\n",
      "      Val Acc : 0.0296,    Val Loss : 0.7875\n",
      "Epoch [4]\n",
      "    Train Acc : 0.0322,  Train Loss : 0.7802\n",
      "      Val Acc : 0.0283,    Val Loss : 0.7802\n",
      "Epoch [5]\n",
      "    Train Acc : 0.0310,  Train Loss : 0.7751\n",
      "      Val Acc : 0.0316,    Val Loss : 0.7775\n",
      "Evaluation (DeepFool Images)\n",
      "     Test Acc : 0.0308,   Test Loss : 0.7807\n",
      "Evaluation (Clean Images)\n",
      "     Test Acc : 0.9585,   Test Loss : 0.1559\n"
     ]
    }
   ],
   "source": [
    "model = LeNet_MNIST().to(device)\n",
    "model.load_state_dict(torch.load('weights/clean/mnist_lenet.pth'))\n",
    "\n",
    "if train_model:\n",
    "    opt = torch.optim.SGD(model.parameters(),\n",
    "                          lr=lr * lr_scale,\n",
    "                          momentum=momentum)\n",
    "    _, _, _, _, = model_train(device, model, opt, 5,\n",
    "                              mnist_loader_train, mnist_loader_val,\n",
    "                              1, mnist_min, mnist_max,\n",
    "                              deep_args, is_fgsm=False)\n",
    "    torch.save(model.state_dict(), 'weights/deepfool/mnist_lenet.pth')\n",
    "\n",
    "model.load_state_dict(torch.load('weights/deepfool/mnist_lenet.pth'))\n",
    "_, _ = model_eval(device, model, mnist_loader_test,\n",
    "    mnist_min, mnist_max, deep_args, is_fgsm=False)\n",
    "_, _ = model_eval(device, model, mnist_loader_test)\n",
    "\n",
    "if device.type == 'cuda':\n",
    "    torch.cuda.empty_cache()"
   ]
  },
  {
   "cell_type": "markdown",
   "id": "c746e4f2-8ad9-4a56-a5d4-3832e0cfc61d",
   "metadata": {},
   "source": [
    "#### FC Model"
   ]
  },
  {
   "cell_type": "code",
   "execution_count": 13,
   "id": "31de15fd-6624-4f24-a17a-2e9b86f35faa",
   "metadata": {},
   "outputs": [
    {
     "name": "stdout",
     "output_type": "stream",
     "text": [
      "Epoch [1]\n",
      "    Train Acc : 0.0567,  Train Loss : 0.7843\n",
      "      Val Acc : 0.0545,    Val Loss : 0.8015\n",
      "Epoch [2]\n",
      "    Train Acc : 0.0527,  Train Loss : 0.7819\n",
      "      Val Acc : 0.0526,    Val Loss : 0.7956\n",
      "Epoch [3]\n",
      "    Train Acc : 0.0494,  Train Loss : 0.7759\n",
      "      Val Acc : 0.0480,    Val Loss : 0.7823\n",
      "Epoch [4]\n",
      "    Train Acc : 0.0477,  Train Loss : 0.7708\n",
      "      Val Acc : 0.0444,    Val Loss : 0.7766\n",
      "Epoch [5]\n",
      "    Train Acc : 0.0457,  Train Loss : 0.7684\n",
      "      Val Acc : 0.0422,    Val Loss : 0.7769\n",
      "Evaluation (DeepFool Images)\n",
      "     Test Acc : 0.0415,   Test Loss : 0.7805\n",
      "Evaluation (Clean Images)\n",
      "     Test Acc : 0.9396,   Test Loss : 0.2478\n"
     ]
    }
   ],
   "source": [
    "model = FC_500_150().to(device)\n",
    "model.load_state_dict(torch.load('weights/clean/mnist_fc.pth'))\n",
    "\n",
    "if train_model:\n",
    "    opt = torch.optim.SGD(model.parameters(),\n",
    "                          lr=lr * lr_scale,\n",
    "                          momentum=momentum)\n",
    "    _, _, _, _, = model_train(device, model, opt, 5,\n",
    "                              mnist_loader_train, mnist_loader_val,\n",
    "                              1, mnist_min, mnist_max,\n",
    "                              deep_args, is_fgsm=False)\n",
    "    torch.save(model.state_dict(), 'weights/deepfool/mnist_fc.pth')\n",
    "\n",
    "model.load_state_dict(torch.load('weights/deepfool/mnist_fc.pth'))\n",
    "_, _ = model_eval(device, model, mnist_loader_test,\n",
    "    mnist_min, mnist_max, deep_args, is_fgsm=False)\n",
    "_, _ = model_eval(device, model, mnist_loader_test)\n",
    "\n",
    "if device.type == 'cuda':\n",
    "    torch.cuda.empty_cache()"
   ]
  },
  {
   "cell_type": "markdown",
   "id": "c837817e-591c-4471-be27-acaec15b89b0",
   "metadata": {},
   "source": [
    "### CIFAR-10 Dataset"
   ]
  },
  {
   "cell_type": "markdown",
   "id": "05a88a4c-f94a-4fdc-b79c-5f6633d89a68",
   "metadata": {},
   "source": [
    "#### Network-In-Network Model"
   ]
  },
  {
   "cell_type": "code",
   "execution_count": 14,
   "id": "44067654-4932-4faf-8121-2a7b62a46249",
   "metadata": {},
   "outputs": [
    {
     "name": "stdout",
     "output_type": "stream",
     "text": [
      "Epoch [1]\n",
      "    Train Acc : 0.5524,  Train Loss : 0.9408\n",
      "      Val Acc : 0.0798,    Val Loss : 0.8160\n",
      "Epoch [2]\n",
      "    Train Acc : 0.5423,  Train Loss : 0.9364\n",
      "      Val Acc : 0.0897,    Val Loss : 0.8516\n",
      "Epoch [3]\n",
      "    Train Acc : 0.5404,  Train Loss : 0.9389\n",
      "      Val Acc : 0.0957,    Val Loss : 0.8616\n",
      "Epoch [4]\n",
      "    Train Acc : 0.5379,  Train Loss : 0.9459\n",
      "      Val Acc : 0.1032,    Val Loss : 0.8693\n",
      "Epoch [5]\n",
      "    Train Acc : 0.5323,  Train Loss : 0.9540\n",
      "      Val Acc : 0.1066,    Val Loss : 0.8885\n",
      "Epoch [6]\n",
      "    Train Acc : 0.5353,  Train Loss : 0.9525\n",
      "      Val Acc : 0.1082,    Val Loss : 0.8878\n",
      "Epoch [7]\n",
      "    Train Acc : 0.5277,  Train Loss : 0.9617\n",
      "      Val Acc : 0.1015,    Val Loss : 0.8937\n",
      "Epoch [8]\n",
      "    Train Acc : 0.5259,  Train Loss : 0.9628\n",
      "      Val Acc : 0.1043,    Val Loss : 0.9029\n",
      "Epoch [9]\n",
      "    Train Acc : 0.5236,  Train Loss : 0.9682\n",
      "      Val Acc : 0.1176,    Val Loss : 0.9017\n",
      "Epoch [10]\n",
      "    Train Acc : 0.5231,  Train Loss : 0.9674\n",
      "      Val Acc : 0.1180,    Val Loss : 0.9025\n",
      "Evaluation (DeepFool Images)\n",
      "     Test Acc : 0.1239,   Test Loss : 0.9431\n",
      "Evaluation (Clean Images)\n",
      "     Test Acc : 0.8043,   Test Loss : 0.6066\n"
     ]
    }
   ],
   "source": [
    "model = Net().to(device)\n",
    "model.load_state_dict(torch.load('weights/clean/cifar_nin.pth'))\n",
    "\n",
    "if train_model:\n",
    "    opt = torch.optim.SGD(model.parameters(),\n",
    "                          lr=lr_nin * lr_scale,\n",
    "                          momentum=momentum)\n",
    "    _, _, _, _, = model_train(device, model, opt, 10,\n",
    "                              cifar_loader_train, cifar_loader_val,\n",
    "                              1, cifar_min, cifar_max,\n",
    "                              deep_args, is_fgsm=False)\n",
    "    torch.save(model.state_dict(), 'weights/deepfool/cifar_nin.pth')\n",
    "\n",
    "model.load_state_dict(torch.load('weights/deepfool/cifar_nin.pth'))\n",
    "_, _ = model_eval(device, model, cifar_loader_test,\n",
    "    cifar_min, cifar_max, deep_args, is_fgsm=False)\n",
    "_, _ = model_eval(device, model, cifar_loader_test)\n",
    "\n",
    "if device.type == 'cuda':\n",
    "    torch.cuda.empty_cache()"
   ]
  },
  {
   "cell_type": "markdown",
   "id": "f976fb8c-99bc-411c-b41d-67dd74eef572",
   "metadata": {},
   "source": [
    "#### LeNet Model"
   ]
  },
  {
   "cell_type": "code",
   "execution_count": 15,
   "id": "b1d1ef83-f44f-4877-823c-d02a8e7a2033",
   "metadata": {},
   "outputs": [
    {
     "name": "stdout",
     "output_type": "stream",
     "text": [
      "Epoch [1]\n",
      "    Train Acc : 0.1477,  Train Loss : 1.0705\n",
      "      Val Acc : 0.1622,    Val Loss : 1.2455\n",
      "Epoch [2]\n",
      "    Train Acc : 0.1647,  Train Loss : 1.1456\n",
      "      Val Acc : 0.1624,    Val Loss : 1.2241\n",
      "Epoch [3]\n",
      "    Train Acc : 0.1659,  Train Loss : 1.1551\n",
      "      Val Acc : 0.1637,    Val Loss : 1.2288\n",
      "Epoch [4]\n",
      "    Train Acc : 0.1650,  Train Loss : 1.1672\n",
      "      Val Acc : 0.1640,    Val Loss : 1.2440\n",
      "Epoch [5]\n",
      "    Train Acc : 0.1663,  Train Loss : 1.1708\n",
      "      Val Acc : 0.1682,    Val Loss : 1.2484\n",
      "Evaluation (DeepFool Images)\n",
      "     Test Acc : 0.1636,   Test Loss : 1.2251\n",
      "Evaluation (Clean Images)\n",
      "     Test Acc : 0.6780,   Test Loss : 1.2484\n"
     ]
    }
   ],
   "source": [
    "model = LeNet_CIFAR().to(device)\n",
    "model.load_state_dict(torch.load('weights/clean/cifar_lenet.pth'))\n",
    "\n",
    "if train_model:\n",
    "    opt = torch.optim.SGD(model.parameters(),\n",
    "                          lr=lr * lr_scale,\n",
    "                          momentum=momentum)\n",
    "    _, _, _, _, = model_train(device, model, opt, 5,\n",
    "                              cifar_loader_train, cifar_loader_val,\n",
    "                              1, cifar_min, cifar_max,\n",
    "                              deep_args, is_fgsm=False)\n",
    "    torch.save(model.state_dict(), 'weights/deepfool/cifar_lenet.pth')\n",
    "\n",
    "model.load_state_dict(torch.load('weights/deepfool/cifar_lenet.pth'))\n",
    "_, _ = model_eval(device, model, cifar_loader_test,\n",
    "    cifar_min, cifar_max, deep_args, is_fgsm=False)\n",
    "_, _ = model_eval(device, model, cifar_loader_test)\n",
    "\n",
    "if device.type == 'cuda':\n",
    "    torch.cuda.empty_cache()"
   ]
  },
  {
   "cell_type": "code",
   "execution_count": null,
   "id": "7d7ee503-fe24-4e01-8e7a-17d42a83fb9c",
   "metadata": {},
   "outputs": [],
   "source": []
  }
 ],
 "metadata": {
  "kernelspec": {
   "display_name": "Python 3 (ipykernel)",
   "language": "python",
   "name": "python3"
  },
  "language_info": {
   "codemirror_mode": {
    "name": "ipython",
    "version": 3
   },
   "file_extension": ".py",
   "mimetype": "text/x-python",
   "name": "python",
   "nbconvert_exporter": "python",
   "pygments_lexer": "ipython3",
   "version": "3.7.11"
  }
 },
 "nbformat": 4,
 "nbformat_minor": 5
}
